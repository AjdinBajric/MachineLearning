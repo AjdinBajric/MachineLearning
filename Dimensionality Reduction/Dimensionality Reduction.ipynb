{
 "cells": [
  {
   "cell_type": "markdown",
   "metadata": {},
   "source": [
    "# Dimensionality Reduction"
   ]
  },
  {
   "cell_type": "code",
   "execution_count": 2,
   "metadata": {},
   "outputs": [],
   "source": [
    "import numpy as np\n",
    "\n",
    "np.random.seed(4)\n",
    "m = 60\n",
    "w1, w2 = 0.1, 0.3\n",
    "noise = 0.1\n",
    "\n",
    "angles = np.random.rand(m) * 3 * np.pi / 2 - 0.5\n",
    "X = np.empty((m, 3))\n",
    "X[:, 0] = np.cos(angles) + np.sin(angles)/2 + noise * np.random.randn(m) / 2\n",
    "X[:, 1] = np.sin(angles) * 0.7 + noise * np.random.randn(m) / 2\n",
    "X[:, 2] = X[:, 0] * w1 + X[:, 1] * w2 + noise * np.random.randn(m)"
   ]
  },
  {
   "cell_type": "code",
   "execution_count": 3,
   "metadata": {},
   "outputs": [],
   "source": [
    "from sklearn.decomposition import PCA\n",
    "\n",
    "pca = PCA(n_components = 2)\n",
    "X2D = pca.fit_transform(X)"
   ]
  },
  {
   "cell_type": "code",
   "execution_count": 4,
   "metadata": {},
   "outputs": [
    {
     "data": {
      "text/plain": [
       "array([0.84248607, 0.14631839])"
      ]
     },
     "execution_count": 4,
     "metadata": {},
     "output_type": "execute_result"
    }
   ],
   "source": [
    "pca.explained_variance_ratio_"
   ]
  },
  {
   "cell_type": "markdown",
   "metadata": {},
   "source": [
    "This tells you that 84.2% of the dataset’s variance lies along the first axis, and 14.6% lies along the\n",
    "second axis. This leaves less than 1.2% for the third axis, so it is reasonable to assume that it probably\n",
    "carries little information."
   ]
  },
  {
   "cell_type": "code",
   "execution_count": 7,
   "metadata": {},
   "outputs": [],
   "source": [
    "from sklearn.datasets import fetch_openml\n",
    "\n",
    "mnist = fetch_openml('mnist_784')"
   ]
  },
  {
   "cell_type": "code",
   "execution_count": 8,
   "metadata": {},
   "outputs": [],
   "source": [
    "from sklearn.model_selection import train_test_split\n",
    "\n",
    "X = mnist[\"data\"]\n",
    "y = mnist[\"target\"]\n",
    "\n",
    "X_train, X_test, y_train, y_test = train_test_split(X, y)"
   ]
  },
  {
   "cell_type": "markdown",
   "metadata": {},
   "source": [
    "You could then set n_components=d and run PCA again. However, there is a much better option: instead\n",
    "of specifying the number of principal components you want to preserve, you can set n_components to be\n",
    "a float between 0.0 and 1.0, indicating the ratio of variance you wish to preserve:"
   ]
  },
  {
   "cell_type": "code",
   "execution_count": 9,
   "metadata": {},
   "outputs": [],
   "source": [
    "pca = PCA(n_components = 0.95)\n",
    "X_reduced = pca.fit_transform(X_train)"
   ]
  },
  {
   "cell_type": "code",
   "execution_count": 10,
   "metadata": {},
   "outputs": [
    {
     "data": {
      "text/plain": [
       "array([0.09719832, 0.07155316, 0.06170876, 0.05401742, 0.04905855,\n",
       "       0.0430278 , 0.03278245, 0.02884629, 0.02748578, 0.02356632,\n",
       "       0.02108144, 0.02040221, 0.01706009, 0.01686189, 0.01576744,\n",
       "       0.01493166, 0.0132792 , 0.01284905, 0.01186795, 0.01144615,\n",
       "       0.01066611, 0.01009644, 0.00958792, 0.00902655, 0.00879315,\n",
       "       0.00835302, 0.0080838 , 0.00787544, 0.00741299, 0.00688476,\n",
       "       0.00655737, 0.00647011, 0.00598237, 0.00585278, 0.00567335,\n",
       "       0.0054527 , 0.00505394, 0.00489152, 0.00480259, 0.00465999,\n",
       "       0.00455198, 0.00445293, 0.00416951, 0.00397401, 0.00384236,\n",
       "       0.00375304, 0.0036188 , 0.00348855, 0.00337779, 0.00321521,\n",
       "       0.00318462, 0.00308914, 0.00296798, 0.00286653, 0.00282645,\n",
       "       0.0026906 , 0.00267981, 0.00257117, 0.00254425, 0.00246185,\n",
       "       0.00239921, 0.00236976, 0.00228849, 0.00220956, 0.00212458,\n",
       "       0.00205084, 0.00202087, 0.00195857, 0.00192135, 0.00187604,\n",
       "       0.00186431, 0.00179534, 0.00176207, 0.00173921, 0.00165129,\n",
       "       0.00163578, 0.00161372, 0.00153933, 0.00147804, 0.00141887,\n",
       "       0.00141653, 0.00139807, 0.00139319, 0.00135612, 0.00132552,\n",
       "       0.00131881, 0.00129344, 0.0012563 , 0.00122895, 0.00120266,\n",
       "       0.001166  , 0.00114409, 0.0011257 , 0.0011038 , 0.00109202,\n",
       "       0.00106952, 0.00104078, 0.0010326 , 0.00100249, 0.0009982 ,\n",
       "       0.00098233, 0.0009417 , 0.00093418, 0.00091126, 0.00090127,\n",
       "       0.00089444, 0.00086164, 0.00085023, 0.00084127, 0.00081637,\n",
       "       0.0007892 , 0.00077554, 0.00077316, 0.00076388, 0.00076141,\n",
       "       0.0007441 , 0.00073369, 0.00072559, 0.00071303, 0.00070187,\n",
       "       0.00069566, 0.00068802, 0.00067715, 0.00067406, 0.00066129,\n",
       "       0.00064223, 0.00063623, 0.00063165, 0.00061871, 0.00060243,\n",
       "       0.00059927, 0.0005974 , 0.00058881, 0.00058023, 0.00057792,\n",
       "       0.00056988, 0.00056204, 0.00054852, 0.00053524, 0.00052611,\n",
       "       0.00052203, 0.00050762, 0.0005031 , 0.00049903, 0.00049704,\n",
       "       0.00049386, 0.00048553, 0.00048255, 0.00047125, 0.00046809,\n",
       "       0.00046374, 0.00046132, 0.00045677, 0.00045002])"
      ]
     },
     "execution_count": 10,
     "metadata": {},
     "output_type": "execute_result"
    }
   ],
   "source": [
    "pca.explained_variance_ratio_"
   ]
  },
  {
   "cell_type": "code",
   "execution_count": 11,
   "metadata": {},
   "outputs": [
    {
     "data": {
      "text/plain": [
       "154"
      ]
     },
     "execution_count": 11,
     "metadata": {},
     "output_type": "execute_result"
    }
   ],
   "source": [
    "pca.n_components_"
   ]
  },
  {
   "cell_type": "code",
   "execution_count": null,
   "metadata": {},
   "outputs": [],
   "source": []
  }
 ],
 "metadata": {
  "kernelspec": {
   "display_name": "Python 3",
   "language": "python",
   "name": "python3"
  },
  "language_info": {
   "codemirror_mode": {
    "name": "ipython",
    "version": 3
   },
   "file_extension": ".py",
   "mimetype": "text/x-python",
   "name": "python",
   "nbconvert_exporter": "python",
   "pygments_lexer": "ipython3",
   "version": "3.7.4"
  }
 },
 "nbformat": 4,
 "nbformat_minor": 2
}
