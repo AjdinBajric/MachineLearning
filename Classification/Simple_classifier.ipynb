{
 "cells": [
  {
   "cell_type": "code",
   "execution_count": 1,
   "metadata": {},
   "outputs": [],
   "source": [
    "import numpy as np \n",
    "import matplotlib.pyplot as plt "
   ]
  },
  {
   "cell_type": "code",
   "execution_count": 2,
   "metadata": {},
   "outputs": [],
   "source": [
    "#Creating sample input data\n",
    "\n",
    "X = np.array([[3, 1], [2, 5], [1, 8], [6, 4], [5, 2], [3, 5], [4, 7], [4, -1]])\n",
    "y = [0, 1, 1, 0, 0, 1, 1, 0]"
   ]
  },
  {
   "cell_type": "code",
   "execution_count": 3,
   "metadata": {},
   "outputs": [],
   "source": [
    "#Classsify data based on labels\n",
    "\n",
    "class_0 = np.array([X[i] for i in range(len(X)) if y[i] == 0])\n",
    "class_1 = np.array([X[i] for i in range(len(X)) if y[i] == 1])"
   ]
  },
  {
   "cell_type": "code",
   "execution_count": 4,
   "metadata": {},
   "outputs": [
    {
     "data": {
      "image/png": "[encoded data removed]",
      "text/plain": [
       "<Figure size 432x288 with 1 Axes>"
      ]
     },
     "metadata": {
      "needs_background": "light"
     },
     "output_type": "display_data"
    }
   ],
   "source": [
    "#Plot the data\n",
    "\n",
    "line_x = range(10)\n",
    "line_y = line_x\n",
    "\n",
    "plt.figure()\n",
    "plt.scatter(class_0[:,0], class_0[:,1], color='black', marker='s')\n",
    "plt.scatter(class_1[:,0], class_1[:,1], color='black', marker='x')\n",
    "plt.plot(line_x, line_y, color = 'black', linewidth = 3)\n",
    "plt.show()"
   ]
  },
  {
   "cell_type": "markdown",
   "metadata": {},
   "source": [
    "We built a simple classifier using the following rule: the input point (a, b) belongs to class_0\n",
    "if a is greater than or equal to b; otherwise, it belongs to class_1. If you inspect the points\n",
    "one by one, you will see that this is, in fact, true. This is it! You just built a linear classifier that\n",
    "can classify unknown data. It's a linear classifier because the separating line is a straight line.\n",
    "If it's a curve, then it becomes a nonlinear classifier.\n",
    "This formation worked fine because there were a limited number of points, and we could\n",
    "visually inspect them. What if there are thousands of points? How do we generalize this\n",
    "process?"
   ]
  }
 ],
 "metadata": {
  "kernelspec": {
   "display_name": "Python 3",
   "language": "python",
   "name": "python3"
  },
  "language_info": {
   "codemirror_mode": {
    "name": "ipython",
    "version": 3
   },
   "file_extension": ".py",
   "mimetype": "text/x-python",
   "name": "python",
   "nbconvert_exporter": "python",
   "pygments_lexer": "ipython3",
   "version": "3.7.4"
  }
 },
 "nbformat": 4,
 "nbformat_minor": 2
}
