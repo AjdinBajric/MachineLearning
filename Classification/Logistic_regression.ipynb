{
 "cells": [
  {
   "cell_type": "code",
   "execution_count": 1,
   "metadata": {},
   "outputs": [],
   "source": [
    "import numpy as np\n",
    "from sklearn import linear_model\n",
    "import matplotlib.pyplot as plt\n",
    "\n",
    "X = np.array([[4, 7], [3.5, 8], [3.1, 6.2], [0.5, 1], [1, 2], [1.2, 1.9], [6, 2], [5.7, 1.5], [5.4, 2.2]])\n",
    "\n",
    "y = np.array([0, 0, 0, 1, 1, 1, 2, 2, 2])"
   ]
  },
  {
   "cell_type": "code",
   "execution_count": 22,
   "metadata": {},
   "outputs": [],
   "source": [
    "classifier = linear_model.LogisticRegression(solver = 'liblinear', C = 1.0, multi_class = 'auto')"
   ]
  },
  {
   "cell_type": "markdown",
   "metadata": {},
   "source": [
    "<b>The solver parameter </b>specifies the type of solver that the algorithm will use to solve the system of equations.\n",
    "\n",
    "<b>The C parameter </b>controls the regularization strength. A lower value indicates higher\n",
    "regularization strength."
   ]
  },
  {
   "cell_type": "code",
   "execution_count": 23,
   "metadata": {},
   "outputs": [
    {
     "data": {
      "text/plain": [
       "LogisticRegression(C=1.0, class_weight=None, dual=False, fit_intercept=True,\n",
       "                   intercept_scaling=1, l1_ratio=None, max_iter=100,\n",
       "                   multi_class='auto', n_jobs=None, penalty='l2',\n",
       "                   random_state=None, solver='liblinear', tol=0.0001, verbose=0,\n",
       "                   warm_start=False)"
      ]
     },
     "execution_count": 23,
     "metadata": {},
     "output_type": "execute_result"
    }
   ],
   "source": [
    "classifier.fit(X, y)"
   ]
  },
  {
   "cell_type": "code",
   "execution_count": 15,
   "metadata": {},
   "outputs": [],
   "source": [
    "def plot_classifier(classifier, X, y):\n",
    "    # define ranges to plot the figure \n",
    "    x_min, x_max = min(X[:, 0]) - 1.0, max(X[:, 0]) + 1.0\n",
    "    y_min, y_max = min(X[:, 1]) - 1.0, max(X[:, 1]) + 1.0\n",
    "\n",
    "    # denotes the step size that will be used in the mesh grid\n",
    "    step_size = 0.01\n",
    "\n",
    "    # define the mesh grid\n",
    "    x_values, y_values = np.meshgrid(np.arange(x_min, x_max, step_size), np.arange(y_min, y_max, step_size))\n",
    "\n",
    "    # compute the classifier output\n",
    "    mesh_output = classifier.predict(np.c_[x_values.ravel(), y_values.ravel()])\n",
    "\n",
    "    # reshape the array\n",
    "    mesh_output = mesh_output.reshape(x_values.shape)\n",
    "\n",
    "    # Plot the output using a colored plot \n",
    "    plt.figure()\n",
    "\n",
    "    # choose a color scheme you can find all the options \n",
    "    # here: http://matplotlib.org/examples/color/colormaps_reference.html\n",
    "    plt.pcolormesh(x_values, y_values, mesh_output, cmap=plt.cm.gray)\n",
    "\n",
    "    # Overlay the training points on the plot \n",
    "    plt.scatter(X[:, 0], X[:, 1], c=y, s=80, edgecolors='black', linewidth=1, cmap=plt.cm.Paired)\n",
    "\n",
    "    # specify the boundaries of the figure\n",
    "    plt.xlim(x_values.min(), x_values.max())\n",
    "    plt.ylim(y_values.min(), y_values.max())\n",
    "\n",
    "    # specify the ticks on the X and Y axes\n",
    "    plt.xticks((np.arange(int(min(X[:, 0])-1), int(max(X[:, 0])+1), 1.0)))\n",
    "    plt.yticks((np.arange(int(min(X[:, 1])-1), int(max(X[:, 1])+1), 1.0)))\n",
    "\n",
    "    plt.show()"
   ]
  },
  {
   "cell_type": "code",
   "execution_count": 24,
   "metadata": {},
   "outputs": [
    {
     "data": {
      "image/png": "[encoded data removed]",
      "text/plain": [
       "<Figure size 432x288 with 1 Axes>"
      ]
     },
     "metadata": {
      "needs_background": "light"
     },
     "output_type": "display_data"
    }
   ],
   "source": [
    "plot_classifier(classifier, X, y)"
   ]
  },
  {
   "cell_type": "code",
   "execution_count": null,
   "metadata": {},
   "outputs": [],
   "source": [
    "The C parameter indicates the\n",
    "penalty for misclassification."
   ]
  }
 ],
 "metadata": {
  "kernelspec": {
   "display_name": "Python 3",
   "language": "python",
   "name": "python3"
  },
  "language_info": {
   "codemirror_mode": {
    "name": "ipython",
    "version": 3
   },
   "file_extension": ".py",
   "mimetype": "text/x-python",
   "name": "python",
   "nbconvert_exporter": "python",
   "pygments_lexer": "ipython3",
   "version": "3.7.4"
  }
 },
 "nbformat": 4,
 "nbformat_minor": 2
}
