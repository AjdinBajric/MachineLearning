{
 "cells": [
  {
   "cell_type": "markdown",
   "metadata": {},
   "source": [
    "# <span style = \"color:red;\">Evaluating cars based on their characteristics</span>"
   ]
  },
  {
   "cell_type": "code",
   "execution_count": 1,
   "metadata": {},
   "outputs": [],
   "source": [
    "from sklearn import preprocessing \n",
    "from sklearn.ensemble import RandomForestClassifier\n",
    "import numpy as np"
   ]
  },
  {
   "cell_type": "code",
   "execution_count": 2,
   "metadata": {},
   "outputs": [],
   "source": [
    "#Load the dataset\n",
    "input_file = \"car.data.txt\"\n",
    "\n",
    "X = []\n",
    "count = 0\n",
    "\n",
    "with open(input_file, 'r') as f:\n",
    "    for line in f.readlines():\n",
    "        data = line[:-1].split(',')\n",
    "        X.append(data)\n",
    "\n",
    "X = np.array(X)"
   ]
  },
  {
   "cell_type": "code",
   "execution_count": 3,
   "metadata": {},
   "outputs": [],
   "source": [
    "label_encoder = []\n",
    "X_encoded = np.empty(X.shape)\n",
    "\n",
    "for i, item in enumerate(X[0]):\n",
    "    label_encoder.append(preprocessing.LabelEncoder())\n",
    "    X_encoded[:, i] = label_encoder[-1].fit_transform(X[:, i])\n",
    "\n",
    "X = X_encoded[:, :-1].astype(int)\n",
    "y = X_encoded[:, -1].astype(int)"
   ]
  },
  {
   "cell_type": "code",
   "execution_count": 4,
   "metadata": {},
   "outputs": [
    {
     "data": {
      "text/plain": [
       "RandomForestClassifier(bootstrap=True, class_weight=None, criterion='gini',\n",
       "                       max_depth=8, max_features='auto', max_leaf_nodes=None,\n",
       "                       min_impurity_decrease=0.0, min_impurity_split=None,\n",
       "                       min_samples_leaf=1, min_samples_split=2,\n",
       "                       min_weight_fraction_leaf=0.0, n_estimators=200,\n",
       "                       n_jobs=None, oob_score=False, random_state=7, verbose=0,\n",
       "                       warm_start=False)"
      ]
     },
     "execution_count": 4,
     "metadata": {},
     "output_type": "execute_result"
    }
   ],
   "source": [
    "params = {'n_estimators': 200, 'max_depth':8, 'random_state':7}\n",
    "\n",
    "classifier = RandomForestClassifier(**params)\n",
    "classifier.fit(X, y)"
   ]
  },
  {
   "cell_type": "code",
   "execution_count": 5,
   "metadata": {},
   "outputs": [
    {
     "data": {
      "text/plain": [
       "0.7818714329769451"
      ]
     },
     "execution_count": 5,
     "metadata": {},
     "output_type": "execute_result"
    }
   ],
   "source": [
    "from sklearn.model_selection import cross_val_score\n",
    "\n",
    "accuracy = cross_val_score(classifier, X, y, scoring = \"accuracy\", cv = 3)\n",
    "\n",
    "float(accuracy.mean())"
   ]
  },
  {
   "cell_type": "code",
   "execution_count": 6,
   "metadata": {},
   "outputs": [],
   "source": [
    "# Testing encoding on a single data instance\n",
    "input_data = ['vhigh', 'vhigh', '2', '2', 'small', 'low']\n",
    "input_data_encoded = [-1] * len(input_data)\n",
    "\n",
    "for i,item in enumerate(input_data):\n",
    "      input_data_encoded[i] = int(label_encoder[i].transform([input_data[i]]))\n",
    "\n",
    "input_data_encoded = np.array(input_data_encoded)\n",
    "input_data_encoded = np.reshape(input_data_encoded, (1, -1))"
   ]
  },
  {
   "cell_type": "code",
   "execution_count": 7,
   "metadata": {},
   "outputs": [
    {
     "name": "stdout",
     "output_type": "stream",
     "text": [
      "Output class: unacc\n"
     ]
    }
   ],
   "source": [
    "output_class = classifier.predict(input_data_encoded)\n",
    "\n",
    "print (\"Output class:\", label_encoder[-1].inverse_transform(output_class)[0])"
   ]
  },
  {
   "cell_type": "markdown",
   "metadata": {},
   "source": [
    "# <span style = \"color:blue;\">Validation curves</span>"
   ]
  },
  {
   "cell_type": "code",
   "execution_count": 8,
   "metadata": {},
   "outputs": [],
   "source": [
    "from sklearn.model_selection import validation_curve\n",
    "\n",
    "classifier = RandomForestClassifier(max_depth = 4, random_state = 7)\n",
    "parameter_grid = np.linspace(25, 200, 8).astype(int)\n",
    "\n",
    "train_scores, validation_scores = validation_curve(classifier, X, y, \"n_estimators\", parameter_grid, cv = 5)"
   ]
  },
  {
   "cell_type": "code",
   "execution_count": 9,
   "metadata": {},
   "outputs": [
    {
     "name": "stdout",
     "output_type": "stream",
     "text": [
      "\n",
      "##### LEARNING CURVES #####\n",
      "\n",
      "Training scores:\n",
      " [[0.80680174 0.80824891 0.80752533 0.80463097 0.81358382]\n",
      " [0.79522431 0.80535456 0.81041968 0.8089725  0.81069364]\n",
      " [0.80101302 0.80680174 0.81114327 0.81476122 0.8150289 ]\n",
      " [0.8024602  0.80535456 0.81186686 0.80752533 0.80346821]\n",
      " [0.80028944 0.80463097 0.81114327 0.80824891 0.81069364]\n",
      " [0.80390738 0.80535456 0.81041968 0.80969609 0.81647399]\n",
      " [0.80390738 0.80463097 0.81114327 0.81476122 0.81719653]\n",
      " [0.80390738 0.80607815 0.81114327 0.81403763 0.81647399]]\n",
      "\n",
      "Validation scores:\n",
      " [[0.71098266 0.76589595 0.72543353 0.76300578 0.75290698]\n",
      " [0.71098266 0.75433526 0.71965318 0.75722543 0.74127907]\n",
      " [0.71098266 0.72254335 0.71965318 0.75722543 0.74418605]\n",
      " [0.71098266 0.71387283 0.71965318 0.75722543 0.72674419]\n",
      " [0.71098266 0.74277457 0.71965318 0.75722543 0.74127907]\n",
      " [0.71098266 0.74277457 0.71965318 0.75722543 0.74127907]\n",
      " [0.71098266 0.74566474 0.71965318 0.75722543 0.74418605]\n",
      " [0.71098266 0.75144509 0.71965318 0.75722543 0.74127907]]\n"
     ]
    }
   ],
   "source": [
    "print (\"\\n##### LEARNING CURVES #####\")\n",
    "print(\"\\nTraining scores:\\n\", train_scores)\n",
    "print (\"\\nValidation scores:\\n\", validation_scores)"
   ]
  },
  {
   "cell_type": "code",
   "execution_count": 10,
   "metadata": {},
   "outputs": [],
   "source": [
    "#Plot the figure\n",
    "import matplotlib.pyplot as plt\n",
    "\n",
    "def plot_training_curve(parameter_grid, train_scores, title, xlabel, ylabel):\n",
    "    plt.figure()\n",
    "    plt.plot(parameter_grid, 100*np.average(train_scores, axis = 1), color = \"black\")\n",
    "    plt.title(title)\n",
    "    plt.xlabel(xlabel)\n",
    "    plt.ylabel(ylabel)\n",
    "    plt.show()\n",
    "    "
   ]
  },
  {
   "cell_type": "code",
   "execution_count": 11,
   "metadata": {},
   "outputs": [
    {
     "data": {
      "image/png": "[encoded data removed]",
      "text/plain": [
       "<Figure size 432x288 with 1 Axes>"
      ]
     },
     "metadata": {
      "needs_background": "light"
     },
     "output_type": "display_data"
    }
   ],
   "source": [
    "plot_training_curve(parameter_grid, train_scores, \"Training curve\", \"Number of estimators\", \"Accuracy\")"
   ]
  },
  {
   "cell_type": "code",
   "execution_count": 12,
   "metadata": {
    "scrolled": true
   },
   "outputs": [
    {
     "name": "stdout",
     "output_type": "stream",
     "text": [
      "\n",
      "Param: max_depth\n",
      "Training scores:\n",
      " [[0.71852388 0.70043415 0.70043415 0.70043415 0.69942197]\n",
      " [0.80607815 0.80535456 0.80752533 0.79450072 0.81069364]\n",
      " [0.90665702 0.91027496 0.92836469 0.89797395 0.90679191]\n",
      " [0.97467438 0.96743849 0.96888567 0.97829233 0.96820809]\n",
      " [0.99421129 0.99710564 0.99782923 0.99855282 0.99277457]]\n",
      "\n",
      "Param: max_depth\n",
      "Validation scores:\n",
      " [[0.69942197 0.69942197 0.69942197 0.69942197 0.70348837]\n",
      " [0.71098266 0.76589595 0.72543353 0.75722543 0.74127907]\n",
      " [0.71387283 0.76300578 0.7283237  0.84682081 0.84011628]\n",
      " [0.67630058 0.78612717 0.78034682 0.80346821 0.89825581]\n",
      " [0.6416185  0.76878613 0.75722543 0.84393064 0.88081395]]\n"
     ]
    }
   ],
   "source": [
    "classifier = RandomForestClassifier(n_estimators = 20, random_state = 7)\n",
    "parameter_grid = np.linspace(2, 10, 5).astype(int)\n",
    "\n",
    "train_scores, validation_scores = validation_curve(classifier, X, y, \"max_depth\", parameter_grid, cv = 5)\n",
    "\n",
    "print (\"\\nParam: max_depth\\nTraining scores:\\n\", train_scores)\n",
    "print (\"\\nParam: max_depth\\nValidation scores:\\n\", validation_scores)"
   ]
  },
  {
   "cell_type": "code",
   "execution_count": 13,
   "metadata": {},
   "outputs": [
    {
     "data": {
      "image/png": "[encoded data removed]",
      "text/plain": [
       "<Figure size 432x288 with 1 Axes>"
      ]
     },
     "metadata": {
      "needs_background": "light"
     },
     "output_type": "display_data"
    }
   ],
   "source": [
    "plot_training_curve(parameter_grid, train_scores, \"Training curve\", \"Maximum depth of the tree\", \"Accuracy\")"
   ]
  }
 ],
 "metadata": {
  "kernelspec": {
   "display_name": "Python 3",
   "language": "python",
   "name": "python3"
  },
  "language_info": {
   "codemirror_mode": {
    "name": "ipython",
    "version": 3
   },
   "file_extension": ".py",
   "mimetype": "text/x-python",
   "name": "python",
   "nbconvert_exporter": "python",
   "pygments_lexer": "ipython3",
   "version": "3.7.4"
  }
 },
 "nbformat": 4,
 "nbformat_minor": 2
}
